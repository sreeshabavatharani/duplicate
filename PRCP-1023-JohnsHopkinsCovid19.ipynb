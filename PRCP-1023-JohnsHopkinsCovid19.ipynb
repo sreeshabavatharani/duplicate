{
 "cells": [
  {
   "cell_type": "markdown",
   "id": "2007d8b9",
   "metadata": {},
   "source": [
    "# TEAM ID : PTID-CDS-DEC-23-1738"
   ]
  },
  {
   "cell_type": "markdown",
   "id": "61e23fa5",
   "metadata": {},
   "source": [
    "# BATCH : 14 TH AUG BATCH\n",
    "\n",
    "# PROJECT NAME : PRCP-1023-JohnsHopkinsCovid19\n"
   ]
  },
  {
   "cell_type": "markdown",
   "id": "5291a558",
   "metadata": {},
   "source": [
    "# Problem Statement\n",
    "\n",
    "## Task 1:- Prepare a complete data analysis report on the given data.\n",
    "\n",
    "## Task 2:- Fix a period for prediction of confirmed cases/deaths. Create a predictive model to forecast the Covid19 cases based on past cases for a specific country or region.\n",
    "\n",
    "## Task3:- Make suggestions to the government health department of the country/region for preparation based on your predictions.\n",
    "\n"
   ]
  },
  {
   "cell_type": "markdown",
   "id": "0680c535",
   "metadata": {},
   "source": [
    "# Domain Expertise\n",
    "## Domain: Healthcare\n",
    "## 3 Dataset for Analysis\n",
    "## 1.time_series_covid19_confirmed_global\n",
    "- Contains the count of  confirmed patients on each day along with their country,states etc.\n",
    "## 2.time_series_covid19_deaths_global\n",
    "- Contains the count of  death cases on each day along with their country,States etc.\n",
    "## 3.time_series_covid19_recovered_global\n",
    "- Contains the count of  recovered patients on each day along with their country,states,etc.\n",
    "## This is a daily updating version of COVID-19 Data Repository by the Center for Systems Science and Engineering (CSSE) at Johns Hopkins University (JHU). The data updates every day at 6am UTC, which updates just after the raw JHU data typically updates.\n",
    "## Attributes:\n",
    "### 1.Province/State\n",
    "- This attribute contains Provinces or states of different countries.\n",
    "### 2.Country/Region\n",
    "- Contains different countries affected by covid 19.\n",
    "### 3.Lat\n",
    "- Latitude of the countries.\n",
    "### 4.Long\t\n",
    "- Longitude of the countries.\n",
    "### 5. 1/22/20\tto 9/21/20\n",
    "- These are the daily confirmed,death.recovered cases from 1/22/20\tto 9/21/20.\n",
    "\n"
   ]
  },
  {
   "cell_type": "code",
   "execution_count": 1,
   "id": "9bcd10d6",
   "metadata": {},
   "outputs": [
    {
     "ename": "FileNotFoundError",
     "evalue": "[Errno 2] No such file or directory: 'Covidp'",
     "output_type": "error",
     "traceback": [
      "\u001b[1;31m---------------------------------------------------------------------------\u001b[0m",
      "\u001b[1;31mFileNotFoundError\u001b[0m                         Traceback (most recent call last)",
      "Cell \u001b[1;32mIn[1], line 2\u001b[0m\n\u001b[0;32m      1\u001b[0m \u001b[38;5;28;01mimport\u001b[39;00m \u001b[38;5;21;01mmatplotlib\u001b[39;00m\u001b[38;5;21;01m.\u001b[39;00m\u001b[38;5;21;01mpyplot\u001b[39;00m \u001b[38;5;28;01mas\u001b[39;00m \u001b[38;5;21;01mplt\u001b[39;00m\n\u001b[1;32m----> 2\u001b[0m img \u001b[38;5;241m=\u001b[39m plt\u001b[38;5;241m.\u001b[39mimread(\u001b[38;5;124m'\u001b[39m\u001b[38;5;124mCovidp\u001b[39m\u001b[38;5;124m'\u001b[39m)\n\u001b[0;32m      3\u001b[0m plt\u001b[38;5;241m.\u001b[39mimshow(img)\n\u001b[0;32m      4\u001b[0m plt\u001b[38;5;241m.\u001b[39maxis(\u001b[38;5;124m'\u001b[39m\u001b[38;5;124moff\u001b[39m\u001b[38;5;124m'\u001b[39m)\n",
      "File \u001b[1;32m~\\anaconda3\\Lib\\site-packages\\matplotlib\\pyplot.py:2195\u001b[0m, in \u001b[0;36mimread\u001b[1;34m(fname, format)\u001b[0m\n\u001b[0;32m   2193\u001b[0m \u001b[38;5;129m@_copy_docstring_and_deprecators\u001b[39m(matplotlib\u001b[38;5;241m.\u001b[39mimage\u001b[38;5;241m.\u001b[39mimread)\n\u001b[0;32m   2194\u001b[0m \u001b[38;5;28;01mdef\u001b[39;00m \u001b[38;5;21mimread\u001b[39m(fname, \u001b[38;5;28mformat\u001b[39m\u001b[38;5;241m=\u001b[39m\u001b[38;5;28;01mNone\u001b[39;00m):\n\u001b[1;32m-> 2195\u001b[0m     \u001b[38;5;28;01mreturn\u001b[39;00m matplotlib\u001b[38;5;241m.\u001b[39mimage\u001b[38;5;241m.\u001b[39mimread(fname, \u001b[38;5;28mformat\u001b[39m)\n",
      "File \u001b[1;32m~\\anaconda3\\Lib\\site-packages\\matplotlib\\image.py:1563\u001b[0m, in \u001b[0;36mimread\u001b[1;34m(fname, format)\u001b[0m\n\u001b[0;32m   1556\u001b[0m \u001b[38;5;28;01mif\u001b[39;00m \u001b[38;5;28misinstance\u001b[39m(fname, \u001b[38;5;28mstr\u001b[39m) \u001b[38;5;129;01mand\u001b[39;00m \u001b[38;5;28mlen\u001b[39m(parse\u001b[38;5;241m.\u001b[39murlparse(fname)\u001b[38;5;241m.\u001b[39mscheme) \u001b[38;5;241m>\u001b[39m \u001b[38;5;241m1\u001b[39m:\n\u001b[0;32m   1557\u001b[0m     \u001b[38;5;66;03m# Pillow doesn't handle URLs directly.\u001b[39;00m\n\u001b[0;32m   1558\u001b[0m     \u001b[38;5;28;01mraise\u001b[39;00m \u001b[38;5;167;01mValueError\u001b[39;00m(\n\u001b[0;32m   1559\u001b[0m         \u001b[38;5;124m\"\u001b[39m\u001b[38;5;124mPlease open the URL for reading and pass the \u001b[39m\u001b[38;5;124m\"\u001b[39m\n\u001b[0;32m   1560\u001b[0m         \u001b[38;5;124m\"\u001b[39m\u001b[38;5;124mresult to Pillow, e.g. with \u001b[39m\u001b[38;5;124m\"\u001b[39m\n\u001b[0;32m   1561\u001b[0m         \u001b[38;5;124m\"\u001b[39m\u001b[38;5;124m``np.array(PIL.Image.open(urllib.request.urlopen(url)))``.\u001b[39m\u001b[38;5;124m\"\u001b[39m\n\u001b[0;32m   1562\u001b[0m         )\n\u001b[1;32m-> 1563\u001b[0m \u001b[38;5;28;01mwith\u001b[39;00m img_open(fname) \u001b[38;5;28;01mas\u001b[39;00m image:\n\u001b[0;32m   1564\u001b[0m     \u001b[38;5;28;01mreturn\u001b[39;00m (_pil_png_to_float_array(image)\n\u001b[0;32m   1565\u001b[0m             \u001b[38;5;28;01mif\u001b[39;00m \u001b[38;5;28misinstance\u001b[39m(image, PIL\u001b[38;5;241m.\u001b[39mPngImagePlugin\u001b[38;5;241m.\u001b[39mPngImageFile) \u001b[38;5;28;01melse\u001b[39;00m\n\u001b[0;32m   1566\u001b[0m             pil_to_array(image))\n",
      "File \u001b[1;32m~\\anaconda3\\Lib\\site-packages\\PIL\\Image.py:3227\u001b[0m, in \u001b[0;36mopen\u001b[1;34m(fp, mode, formats)\u001b[0m\n\u001b[0;32m   3224\u001b[0m     filename \u001b[38;5;241m=\u001b[39m fp\n\u001b[0;32m   3226\u001b[0m \u001b[38;5;28;01mif\u001b[39;00m filename:\n\u001b[1;32m-> 3227\u001b[0m     fp \u001b[38;5;241m=\u001b[39m builtins\u001b[38;5;241m.\u001b[39mopen(filename, \u001b[38;5;124m\"\u001b[39m\u001b[38;5;124mrb\u001b[39m\u001b[38;5;124m\"\u001b[39m)\n\u001b[0;32m   3228\u001b[0m     exclusive_fp \u001b[38;5;241m=\u001b[39m \u001b[38;5;28;01mTrue\u001b[39;00m\n\u001b[0;32m   3230\u001b[0m \u001b[38;5;28;01mtry\u001b[39;00m:\n",
      "\u001b[1;31mFileNotFoundError\u001b[0m: [Errno 2] No such file or directory: 'Covidp'"
     ]
    }
   ],
   "source": [
    "import matplotlib.pyplot as plt\n",
    "img = plt.imread('Covidp')\n",
    "plt.imshow(img)\n",
    "plt.axis('off')\n",
    "plt.show()"
   ]
  },
  {
   "cell_type": "markdown",
   "id": "671e8706",
   "metadata": {},
   "source": [
    "# Importing Necessary Libraries"
   ]
  },
  {
   "cell_type": "code",
   "execution_count": null,
   "id": "efdaaee0",
   "metadata": {},
   "outputs": [],
   "source": [
    "import numpy as np\n",
    "import pandas as pd\n",
    "import matplotlib.pyplot as plt\n",
    "import seaborn as sns\n",
    "import warnings\n",
    "warnings.filterwarnings('ignore')"
   ]
  },
  {
   "cell_type": "code",
   "execution_count": null,
   "id": "6c7df0dd",
   "metadata": {},
   "outputs": [],
   "source": [
    "import plotly.express as px\n",
    "import plotly.graph_objects as go"
   ]
  },
  {
   "cell_type": "markdown",
   "id": "36444c83",
   "metadata": {},
   "source": [
    "# Getting the Dataset"
   ]
  },
  {
   "cell_type": "code",
   "execution_count": null,
   "id": "7ff55e80",
   "metadata": {},
   "outputs": [],
   "source": [
    "confirmed=pd.read_csv('time_series_covid19_confirmed_global.csv')\n",
    "deaths=pd.read_csv('time_series_covid19_deaths_global.csv')\n",
    "recovered=pd.read_csv('time_series_covid19_recovered_global.csv')"
   ]
  },
  {
   "cell_type": "markdown",
   "id": "525fb962",
   "metadata": {},
   "source": [
    "# Basic Checks"
   ]
  },
  {
   "cell_type": "code",
   "execution_count": null,
   "id": "c8604f76",
   "metadata": {
    "scrolled": true
   },
   "outputs": [],
   "source": [
    "recovered.head()"
   ]
  },
  {
   "cell_type": "code",
   "execution_count": null,
   "id": "e42da2c0",
   "metadata": {},
   "outputs": [],
   "source": [
    "confirmed.head()"
   ]
  },
  {
   "cell_type": "code",
   "execution_count": null,
   "id": "be4e5536",
   "metadata": {
    "scrolled": true
   },
   "outputs": [],
   "source": [
    "deaths.head()"
   ]
  },
  {
   "cell_type": "code",
   "execution_count": null,
   "id": "ed20ab2c",
   "metadata": {
    "scrolled": true
   },
   "outputs": [],
   "source": [
    "confirmed.tail()"
   ]
  },
  {
   "cell_type": "code",
   "execution_count": null,
   "id": "cbe258b5",
   "metadata": {
    "scrolled": true
   },
   "outputs": [],
   "source": [
    "deaths.tail()"
   ]
  },
  {
   "cell_type": "code",
   "execution_count": null,
   "id": "0994b104",
   "metadata": {
    "scrolled": true
   },
   "outputs": [],
   "source": [
    "recovered.tail()"
   ]
  },
  {
   "cell_type": "code",
   "execution_count": null,
   "id": "bf7c4fbe",
   "metadata": {},
   "outputs": [],
   "source": [
    "confirmed.shape,deaths.shape,recovered.shape "
   ]
  },
  {
   "cell_type": "markdown",
   "id": "b8297d6f",
   "metadata": {},
   "source": [
    "### Both confirmed and death dataset have 265 rows and 248 columns but recovered dataset contains 253 rows and 248 columns "
   ]
  },
  {
   "cell_type": "code",
   "execution_count": null,
   "id": "4b5a6820",
   "metadata": {},
   "outputs": [],
   "source": [
    " confirmed.info()"
   ]
  },
  {
   "cell_type": "code",
   "execution_count": null,
   "id": "017cf6ae",
   "metadata": {},
   "outputs": [],
   "source": [
    "deaths.info()"
   ]
  },
  {
   "cell_type": "code",
   "execution_count": null,
   "id": "dc3b9216",
   "metadata": {
    "scrolled": false
   },
   "outputs": [],
   "source": [
    "recovered.info()"
   ]
  },
  {
   "cell_type": "markdown",
   "id": "c33378a9",
   "metadata": {},
   "source": [
    "### The datasets contains 3 types of datatypes - float64,int64 and object."
   ]
  },
  {
   "cell_type": "code",
   "execution_count": null,
   "id": "b144ce6c",
   "metadata": {},
   "outputs": [],
   "source": [
    "recovered.describe().T"
   ]
  },
  {
   "cell_type": "code",
   "execution_count": null,
   "id": "21a04dbf",
   "metadata": {},
   "outputs": [],
   "source": [
    "confirmed.describe().T"
   ]
  },
  {
   "cell_type": "code",
   "execution_count": null,
   "id": "e12142dd",
   "metadata": {
    "scrolled": true
   },
   "outputs": [],
   "source": [
    "deaths.describe().T"
   ]
  },
  {
   "cell_type": "markdown",
   "id": "f796d3da",
   "metadata": {},
   "source": [
    "# DATA PREPROCESSING"
   ]
  },
  {
   "cell_type": "markdown",
   "id": "a80bf245",
   "metadata": {},
   "source": [
    "### Melting the 3 datasets and converting all the columns from 1/22/20 to 9/21/20 as rows with column name Date and taking all the values  as  confirmed,recovered,deaths"
   ]
  },
  {
   "cell_type": "code",
   "execution_count": null,
   "id": "d8633e77",
   "metadata": {},
   "outputs": [],
   "source": [
    "dates = confirmed.columns[4:]\n",
    "confirmed_= confirmed.melt(\n",
    "    id_vars = ['Province/State', 'Country/Region', 'Lat','Long'],\n",
    "    value_vars = dates,\n",
    "    var_name ='Date',\n",
    "    value_name = 'Confirmed'\n",
    ")\n",
    "deaths_ = deaths.melt(\n",
    "        id_vars=['Province/State', 'Country/Region', 'Lat', 'Long'], \n",
    "        value_vars=dates, \n",
    "        var_name='Date', \n",
    "        value_name='Deaths'\n",
    ")\n",
    "\n",
    "recovered_ = recovered.melt(\n",
    "        id_vars=['Province/State', 'Country/Region', 'Lat', 'Long'], \n",
    "        value_vars=dates, \n",
    "        var_name='Date', \n",
    "        value_name='Recovered'\n",
    "    )"
   ]
  },
  {
   "cell_type": "code",
   "execution_count": null,
   "id": "72256d4d",
   "metadata": {
    "scrolled": true
   },
   "outputs": [],
   "source": [
    "confirmed_"
   ]
  },
  {
   "cell_type": "code",
   "execution_count": null,
   "id": "7fc53544",
   "metadata": {
    "scrolled": true
   },
   "outputs": [],
   "source": [
    "deaths_"
   ]
  },
  {
   "cell_type": "code",
   "execution_count": null,
   "id": "01ee8824",
   "metadata": {
    "scrolled": true
   },
   "outputs": [],
   "source": [
    "recovered_"
   ]
  },
  {
   "cell_type": "markdown",
   "id": "c831e00b",
   "metadata": {},
   "source": [
    "### Merging the 3 dataset to one single dataset"
   ]
  },
  {
   "cell_type": "code",
   "execution_count": null,
   "id": "f96eabac",
   "metadata": {},
   "outputs": [],
   "source": [
    "df = confirmed_.merge(\n",
    "  right=deaths_, \n",
    "  how='left',\n",
    "  on=['Province/State', 'Country/Region', 'Date', 'Lat', 'Long']\n",
    ")\n",
    "\n",
    "df = df.merge(\n",
    "  right=recovered_, \n",
    "  how='left',\n",
    "  on=['Province/State', 'Country/Region', 'Date', 'Lat', 'Long']\n",
    ")"
   ]
  },
  {
   "cell_type": "code",
   "execution_count": null,
   "id": "2c7340b5",
   "metadata": {},
   "outputs": [],
   "source": [
    "df"
   ]
  },
  {
   "cell_type": "code",
   "execution_count": null,
   "id": "d1e96b6d",
   "metadata": {},
   "outputs": [],
   "source": [
    "df.Date=pd.to_datetime(df['Date'])#Changing the Date's datatype into datetime"
   ]
  },
  {
   "cell_type": "code",
   "execution_count": null,
   "id": "c1444d23",
   "metadata": {
    "scrolled": true
   },
   "outputs": [],
   "source": [
    "df"
   ]
  },
  {
   "cell_type": "code",
   "execution_count": null,
   "id": "5980d842",
   "metadata": {
    "scrolled": true
   },
   "outputs": [],
   "source": [
    "df.describe().T"
   ]
  },
  {
   "cell_type": "code",
   "execution_count": null,
   "id": "6f0437a5",
   "metadata": {},
   "outputs": [],
   "source": [
    "df.shape#After merging we have 64904 rows and 8 attributes."
   ]
  },
  {
   "cell_type": "code",
   "execution_count": null,
   "id": "50619494",
   "metadata": {},
   "outputs": [],
   "source": [
    "df.isnull().sum()"
   ]
  },
  {
   "cell_type": "markdown",
   "id": "8fc267f7",
   "metadata": {},
   "source": [
    "### Recovered attribute contains 4636  null values."
   ]
  },
  {
   "cell_type": "code",
   "execution_count": null,
   "id": "93b86e7f",
   "metadata": {},
   "outputs": [],
   "source": [
    "df['Recovered'] = df['Recovered'].fillna(0)#Replacing the null values with 0 "
   ]
  },
  {
   "cell_type": "code",
   "execution_count": null,
   "id": "7796ec6f",
   "metadata": {
    "scrolled": true
   },
   "outputs": [],
   "source": [
    "df.isnull().sum()"
   ]
  },
  {
   "cell_type": "code",
   "execution_count": null,
   "id": "fe6fed25",
   "metadata": {},
   "outputs": [],
   "source": [
    "df.dtypes"
   ]
  },
  {
   "cell_type": "code",
   "execution_count": null,
   "id": "3964fbe2",
   "metadata": {},
   "outputs": [],
   "source": [
    "df['Recovered'] = df['Recovered'].fillna(0).astype(int)#Converting the datatype of Recovered to integer"
   ]
  },
  {
   "cell_type": "code",
   "execution_count": null,
   "id": "efabf5f6",
   "metadata": {},
   "outputs": [],
   "source": [
    "df.dtypes"
   ]
  },
  {
   "cell_type": "code",
   "execution_count": null,
   "id": "afc0cf73",
   "metadata": {},
   "outputs": [],
   "source": [
    "df=df.rename(columns={\"Country/Region\":\"Country\"})#Renaming the Country/Region atrribute to Country"
   ]
  },
  {
   "cell_type": "code",
   "execution_count": null,
   "id": "cc67cf68",
   "metadata": {},
   "outputs": [],
   "source": [
    "df.info()"
   ]
  },
  {
   "cell_type": "code",
   "execution_count": null,
   "id": "9c16eaf1",
   "metadata": {},
   "outputs": [],
   "source": [
    "df.drop(['Province/State',\"Long\",\"Lat\"],axis=1,inplace=True)#Dropping the unnecessary attributes"
   ]
  },
  {
   "cell_type": "code",
   "execution_count": null,
   "id": "d5c362f9",
   "metadata": {},
   "outputs": [],
   "source": [
    "df"
   ]
  },
  {
   "cell_type": "code",
   "execution_count": null,
   "id": "c8a5ccb3",
   "metadata": {
    "scrolled": true
   },
   "outputs": [],
   "source": [
    "df.describe()"
   ]
  },
  {
   "cell_type": "markdown",
   "id": "0b8cc574",
   "metadata": {},
   "source": [
    "## Getting Active cases by substracting Confirmed,Deaths and Recovered."
   ]
  },
  {
   "cell_type": "code",
   "execution_count": null,
   "id": "a8d570d3",
   "metadata": {},
   "outputs": [],
   "source": [
    "df['Active']= df['Confirmed']-df['Deaths']-df['Recovered']"
   ]
  },
  {
   "cell_type": "code",
   "execution_count": null,
   "id": "8477e76c",
   "metadata": {
    "scrolled": true
   },
   "outputs": [],
   "source": [
    "df"
   ]
  },
  {
   "cell_type": "code",
   "execution_count": null,
   "id": "b73bf28f",
   "metadata": {},
   "outputs": [],
   "source": [
    "full_grouped = df.groupby(['Date', 'Country'])['Confirmed', 'Deaths', 'Recovered', 'Active'].sum().reset_index()\n",
    "#Grouping the values based on Date,Country attributes "
   ]
  },
  {
   "cell_type": "code",
   "execution_count": null,
   "id": "9808c20b",
   "metadata": {},
   "outputs": [],
   "source": [
    "#Getting the new cases by using shift method.\n",
    "temp = full_grouped.groupby(['Country', 'Date', ])['Confirmed', 'Deaths', 'Recovered']\n",
    "temp = temp.sum().diff().reset_index()\n",
    "\n",
    "mask = temp['Country'] != temp['Country'].shift(1)\n",
    "\n",
    "temp.loc[mask, 'Confirmed'] = np.nan\n",
    "temp.loc[mask, 'Deaths'] = np.nan\n",
    "temp.loc[mask, 'Recovered'] = np.nan\n",
    "\n",
    "# Renaming the new cases per day as 'New cases', 'New deaths' and 'New recovered'\n",
    "temp.columns = ['Country', 'Date', 'New cases', 'New deaths', 'New recovered']\n",
    "\n",
    "# Merging the new columns and grouping them by Country and Date \n",
    "full_grouped = pd.merge(full_grouped, temp, on=['Country', 'Date'])\n",
    "\n",
    "# Replacing all the NAN with 0\n",
    "full_grouped = full_grouped.fillna(0)\n",
    "\n",
    "# Fixing data types as Int\n",
    "cols = ['New cases', 'New deaths', 'New recovered']\n",
    "full_grouped[cols] = full_grouped[cols].astype('int')\n",
    "full_grouped['New cases'] = full_grouped['New cases'].apply(lambda x: 0 if x<0 else x)"
   ]
  },
  {
   "cell_type": "code",
   "execution_count": null,
   "id": "c0c8932c",
   "metadata": {
    "scrolled": true
   },
   "outputs": [],
   "source": [
    "full_grouped"
   ]
  },
  {
   "cell_type": "markdown",
   "id": "8d78b355",
   "metadata": {},
   "source": [
    "# EDA (Exploratory Data Analysis)"
   ]
  },
  {
   "cell_type": "code",
   "execution_count": null,
   "id": "b04bd17b",
   "metadata": {
    "scrolled": true
   },
   "outputs": [],
   "source": [
    "temp = full_grouped.groupby('Date')['Confirmed', 'Deaths', 'Recovered', 'Active'].sum().reset_index()\n",
    "temp = temp.melt(id_vars=\"Date\", value_vars=['Confirmed', 'Deaths', 'Recovered', 'Active'],\n",
    "                 var_name='Case', value_name='Count')\n",
    "color_map = {\n",
    "    'Confirmed': 'blue',\n",
    "    'Deaths': 'red',\n",
    "    'Recovered': 'green',\n",
    "    'Active': 'orange'\n",
    "}\n",
    "fig = px.line(temp, x=\"Date\", y=\"Count\", color='Case',\n",
    "             title='Cases over time',color_discrete_map=color_map)\n",
    "fig"
   ]
  },
  {
   "cell_type": "code",
   "execution_count": null,
   "id": "80eb181d",
   "metadata": {
    "scrolled": false
   },
   "outputs": [],
   "source": [
    "fig = px.bar(temp, x=\"Date\", y=\"Count\", color='Case',\n",
    "             title='Cases over time')\n",
    "fig"
   ]
  },
  {
   "cell_type": "markdown",
   "id": "86c46b64",
   "metadata": {},
   "source": [
    "# Insight\n",
    "### The COVID-19 outbreak started in February 2020, and by mid-April it started to increase exponentially,there were around 31.02197 million confirmed cases At the time of september, total 21.26057 million people had recovered from the virus, but unfortunately around 960.685K people have lost the life.however,at the begining time of covid recovery rate is too less by the the time peoples and doctors taking more caution, recoveries rate also continued to increase, and total active cases in the last of the september is around 9.021534 million."
   ]
  },
  {
   "cell_type": "code",
   "execution_count": null,
   "id": "9f6d22bd",
   "metadata": {},
   "outputs": [],
   "source": [
    "world_cases=temp.to_numpy()"
   ]
  },
  {
   "cell_type": "code",
   "execution_count": null,
   "id": "a647190b",
   "metadata": {
    "scrolled": false
   },
   "outputs": [],
   "source": [
    "#Plotting the new cases to\n",
    "temp = full_grouped.groupby('Date')['New cases', 'New deaths', 'New recovered'].sum().reset_index()\n",
    "temp = temp.melt(id_vars=\"Date\", value_vars=['New cases', 'New deaths', 'New recovered'],\n",
    "                 var_name='Case', value_name='Count')\n",
    "temp.head()\n",
    "\n",
    "fig = px.line(temp, x=\"Date\", y=\"Count\", color='Case',\n",
    "             title='Daily Cases')\n",
    "fig"
   ]
  },
  {
   "cell_type": "markdown",
   "id": "97718aa5",
   "metadata": {},
   "source": [
    "# Insight\n",
    "- In the month of the August we see high recovery rate and also the maximum death rate \n",
    "- The graph is showing a sudden hike in recovery in the month of july."
   ]
  },
  {
   "cell_type": "code",
   "execution_count": null,
   "id": "ee91ec20",
   "metadata": {},
   "outputs": [],
   "source": [
    "D1 = df.groupby('Country')['Confirmed', 'Deaths', 'Recovered', 'Active'].sum().reset_index()\n"
   ]
  },
  {
   "cell_type": "code",
   "execution_count": null,
   "id": "25f317e2",
   "metadata": {},
   "outputs": [],
   "source": [
    "D1['Active'] = D1['Active'].astype(int)\n"
   ]
  },
  {
   "cell_type": "code",
   "execution_count": null,
   "id": "8e536276",
   "metadata": {},
   "outputs": [],
   "source": [
    "D1 = D1.sort_values('Confirmed', ascending=False)\n"
   ]
  },
  {
   "cell_type": "code",
   "execution_count": null,
   "id": "d107df4f",
   "metadata": {},
   "outputs": [],
   "source": [
    "others_series = pd.Series(np.sum(D1[10:]))\n",
    "D1_others = D1[:10]\n",
    "D1_others = D1_others.append(others_series, ignore_index=True)\n",
    "D1_others.iloc[10,0] = 'Rest of the World'"
   ]
  },
  {
   "cell_type": "code",
   "execution_count": null,
   "id": "ccf9b86b",
   "metadata": {
    "scrolled": true
   },
   "outputs": [],
   "source": [
    "fig = px.bar(D1.head(10).sort_values('Confirmed', ascending=True),\n",
    "             x=\"Confirmed\", y=\"Country\",title='Top 10 Countries with confirmed cases',\n",
    "             text='Confirmed', orientation='h',\n",
    "             width=700, height=700)\n",
    "fig.update_traces(opacity=0.6)\n",
    "fig"
   ]
  },
  {
   "cell_type": "markdown",
   "id": "77ceb682",
   "metadata": {},
   "source": [
    "# Insight\n",
    "- From the above bar graph we can see that US is the top most country having confirmed cases around  544,027,944 and the Italy is least affected as we consider the top 10 countries with confirm cases."
   ]
  },
  {
   "cell_type": "code",
   "execution_count": null,
   "id": "d0ddffb4",
   "metadata": {
    "scrolled": true
   },
   "outputs": [],
   "source": [
    "fig = px.bar(D1.sort_values('Deaths', ascending=False).head(10).sort_values('Deaths', ascending=True),\n",
    "             x=\"Deaths\", y=\"Country\", title=' Top 10 Countries with Death Cases', text='Deaths', orientation='h',\n",
    "             width=700, height=700)\n",
    "fig.update_traces(opacity=0.6)\n",
    "fig"
   ]
  },
  {
   "cell_type": "markdown",
   "id": "702596e4",
   "metadata": {},
   "source": [
    "# Insight\n",
    "- Italy is having less confirmed cases but it has 4th position in the death rate and in the peru not much people are loosing there lives .\n"
   ]
  },
  {
   "cell_type": "code",
   "execution_count": null,
   "id": "8d01f6a7",
   "metadata": {},
   "outputs": [],
   "source": [
    "fig = px.bar(D1.sort_values('Recovered', ascending=False).head(10).sort_values('Recovered', ascending=True),\n",
    "             x=\"Recovered\", y=\"Country\", title='Top 10 Countries with Recovered Cases', text='Recovered', orientation='h',\n",
    "             width=700, height=700)\n",
    "fig.update_traces(opacity=0.6)\n",
    "fig"
   ]
  },
  {
   "cell_type": "markdown",
   "id": "51246662",
   "metadata": {},
   "source": [
    "# Insight\n",
    "- US has highest confirmed and death cases but it has also showing good result in recovery ,even Brazil ranking 2nd position in confirmed and death cases and showing better result than Us in the recovery insights."
   ]
  },
  {
   "cell_type": "code",
   "execution_count": null,
   "id": "deee3ca6",
   "metadata": {
    "scrolled": true
   },
   "outputs": [],
   "source": [
    "fig = px.bar(D1.sort_values('Active', ascending=False).head(10).sort_values('Active', ascending=True),\n",
    "             x=\"Active\", y=\"Country\", title='Top 10 Countries with Active Cases', text='Active', orientation='h',\n",
    "             width=700, height=700)\n",
    "fig.update_traces(opacity=0.6)\n",
    "fig"
   ]
  },
  {
   "cell_type": "markdown",
   "id": "2a133a94",
   "metadata": {},
   "source": [
    "# Insight\n",
    "- Top country with highest count of active cases are US,Brazil and India."
   ]
  },
  {
   "cell_type": "code",
   "execution_count": null,
   "id": "00bab32a",
   "metadata": {
    "scrolled": true
   },
   "outputs": [],
   "source": [
    "import plotly.express as px\n",
    "\n",
    "# Convert the 'Date' column to string type\n",
    "df[\"Date\"] = df[\"Date\"].astype(str)\n",
    "\n",
    "# Create the choropleth map\n",
    "choro_map = px.choropleth(\n",
    "    df, \n",
    "    locations=\"Country\", \n",
    "    locationmode=\"country names\",\n",
    "    color=\"Confirmed\", \n",
    "    hover_name=\"Country\", \n",
    "    animation_frame=\"Date\"\n",
    ")\n",
    "\n",
    "# Update the layout\n",
    "choro_map.update_layout(\n",
    "    title_text='Global Spread of Coronavirus Confirmed cases',\n",
    "    title_x=0.5,\n",
    "    geo=dict(\n",
    "        showframe=False,\n",
    "        showcoastlines=False,\n",
    "    )\n",
    ")\n",
    "\n",
    "choro_map.show()\n"
   ]
  },
  {
   "cell_type": "markdown",
   "id": "6ba01769",
   "metadata": {},
   "source": [
    "# Insight\n",
    "-  Above animated map is showing that global spread of confirmed COVID-19 cases over time.\n",
    "- Each country is represented on the map, and the color intensity varies corresponding to the number of confirmed cases.\n",
    "- And based on the 'Date' column,we see the progression of confirmed cases over different dates.\n",
    "- Higher the cases country is highlighted by yellow shade and lower the cases country is highlighted by blue colour\n",
    "- From february to march there is gradually increase of confirmed cases in the Us and it become consistent.\n",
    "- On march onwards there will be gradually increase in the confirmed cases in Brazil and India.\n",
    "- The moment we play the start button it automatically shows each changes till the last date."
   ]
  },
  {
   "cell_type": "code",
   "execution_count": null,
   "id": "90b80eb2",
   "metadata": {
    "scrolled": true
   },
   "outputs": [],
   "source": [
    "df[\"Date\"] = df[\"Date\"].astype(str)\n",
    "\n",
    "# Create the choropleth map\n",
    "choro_map = px.choropleth(\n",
    "    df, \n",
    "    locations=\"Country\", \n",
    "    locationmode=\"country names\",\n",
    "    color=\"Recovered\", \n",
    "    hover_name=\"Country\", \n",
    "    animation_frame=\"Date\"\n",
    ")\n",
    "\n",
    "# Update the layout\n",
    "choro_map.update_layout(\n",
    "    title_text='Global Spread of Coronavirus Recovered cases',\n",
    "    title_x=0.5,\n",
    "    geo=dict(\n",
    "        showframe=False,\n",
    "        showcoastlines=False,\n",
    "    )\n",
    ")\n",
    "\n",
    "# Show the map\n",
    "choro_map.show()\n"
   ]
  },
  {
   "cell_type": "markdown",
   "id": "d0dff5b1",
   "metadata": {},
   "source": [
    "# Insights\n",
    "- Above animated map is showing that global spread of Recoverd COVID-19 cases over time.\n",
    "- Over the duration, there was a gradual increase in the recovery rate in the India.\n",
    "- US is the 1st country showing more recovery rate upto last of june."
   ]
  },
  {
   "cell_type": "code",
   "execution_count": null,
   "id": "134b6725",
   "metadata": {
    "scrolled": true
   },
   "outputs": [],
   "source": [
    "df[\"Date\"] = df[\"Date\"].astype(str)\n",
    "\n",
    "# Create the choropleth map\n",
    "choro_map = px.choropleth(\n",
    "    df, \n",
    "    locations=\"Country\", \n",
    "    locationmode=\"country names\",\n",
    "    color=\"Deaths\", \n",
    "    hover_name=\"Country\", \n",
    "    animation_frame=\"Date\"\n",
    ")\n",
    "\n",
    "# Update the layout\n",
    "choro_map.update_layout(\n",
    "    title_text='Global Spread of Coronavirus Deaths cases',\n",
    "    title_x=0.5,\n",
    "    geo=dict(\n",
    "        showframe=False,\n",
    "        showcoastlines=False,\n",
    "    )\n",
    ")\n",
    "\n",
    "# Show the map\n",
    "choro_map.show()\n"
   ]
  },
  {
   "cell_type": "markdown",
   "id": "c3e7609b",
   "metadata": {},
   "source": [
    "# Insights\n",
    "- Above animated map is showing that global spread of COVID-19 death cases over time.\n",
    "- After the february,there was a gradual increase in the death rate in the US,Italy,France,Spain,United Kingdom and in Brazil - till 2020-07-14 there was not much death rate seen in india and from the period of 2020-07-14 to 2020-09-10 there was a gradual increase in the death rate in india .\n",
    "- From above map we conclude that the US is showing the maximum death rate compared to other country.\n"
   ]
  },
  {
   "cell_type": "code",
   "execution_count": null,
   "id": "88e6950c",
   "metadata": {
    "scrolled": true
   },
   "outputs": [],
   "source": [
    "df[\"Date\"] = df[\"Date\"].astype(str)\n",
    "\n",
    "# Create the choropleth map\n",
    "choro_map = px.choropleth(\n",
    "    df, \n",
    "    locations=\"Country\", \n",
    "    locationmode=\"country names\",\n",
    "    color=\"Active\", \n",
    "    hover_name=\"Country\", \n",
    "    animation_frame=\"Date\"\n",
    ")\n",
    "\n",
    "# Update the layout\n",
    "choro_map.update_layout(\n",
    "    title_text='Global Spread of Coronavirus Active cases',\n",
    "    title_x=0.5,\n",
    "    geo=dict(\n",
    "        showframe=False,\n",
    "        showcoastlines=False,\n",
    "    )\n",
    ")\n",
    "\n",
    "# Show the map\n",
    "choro_map.show()\n"
   ]
  },
  {
   "cell_type": "markdown",
   "id": "9709fca9",
   "metadata": {},
   "source": [
    "# Insights\n",
    "- Above animated map is showing that global spread of COVID-19 Active cases over time.\n",
    "- At the beginning of the march italy is showing the most active cacses after sometime there will be gradually descrese in the active cases.\n",
    "- From 2020-03-10 to 2020-03-22 in US there is gradual increase in the active cases after it become consistant"
   ]
  },
  {
   "cell_type": "markdown",
   "id": "8ab2bff1",
   "metadata": {},
   "source": [
    "# FEATURE ENGINEERING"
   ]
  },
  {
   "cell_type": "code",
   "execution_count": null,
   "id": "1496b25d",
   "metadata": {
    "scrolled": true
   },
   "outputs": [],
   "source": [
    "full_grouped.corr()\n"
   ]
  },
  {
   "cell_type": "code",
   "execution_count": null,
   "id": "78916e3f",
   "metadata": {
    "scrolled": false
   },
   "outputs": [],
   "source": [
    "plt.figure(figsize=(10,5))## Checking correlation\n",
    "sns.heatmap(full_grouped.corr(),annot=True,linecolor='pink',cmap='CMRmap')"
   ]
  },
  {
   "cell_type": "markdown",
   "id": "da513bb1",
   "metadata": {},
   "source": [
    "# Taking Country India for Predictive Modelling "
   ]
  },
  {
   "cell_type": "code",
   "execution_count": null,
   "id": "13aaf7be",
   "metadata": {},
   "outputs": [],
   "source": [
    "India_confirmed=confirmed[confirmed['Country/Region']==\"India\"].T\n",
    "India_deaths=deaths[deaths['Country/Region']==\"India\"].T\n",
    "India_recovered=recovered[recovered['Country/Region']==\"India\"].T\n",
    "print(India_confirmed)\n",
    "print(India_deaths)\n",
    "print(India_recovered)"
   ]
  },
  {
   "cell_type": "code",
   "execution_count": null,
   "id": "eee2704a",
   "metadata": {},
   "outputs": [],
   "source": [
    "India_join=India_confirmed.join(India_deaths,how='left',lsuffix='_confirmed',rsuffix='_deaths')\n",
    "India=India_join.join(India_recovered,how='left',lsuffix='_',rsuffix='_recovered')\n"
   ]
  },
  {
   "cell_type": "code",
   "execution_count": null,
   "id": "361fda07",
   "metadata": {},
   "outputs": [],
   "source": [
    "India"
   ]
  },
  {
   "cell_type": "code",
   "execution_count": null,
   "id": "5a175f1e",
   "metadata": {},
   "outputs": [],
   "source": [
    "India=India.rename(columns={\"143_confirmed\":\"confirmed\",\"143_deaths\":\"deaths\",130:\"recovered\"})"
   ]
  },
  {
   "cell_type": "code",
   "execution_count": null,
   "id": "4ecb9745",
   "metadata": {},
   "outputs": [],
   "source": [
    "India"
   ]
  },
  {
   "cell_type": "code",
   "execution_count": null,
   "id": "43daab82",
   "metadata": {},
   "outputs": [],
   "source": [
    "# Excluding the less significant raw of the data\n",
    "India=India[4:]"
   ]
  },
  {
   "cell_type": "code",
   "execution_count": null,
   "id": "772a8e28",
   "metadata": {
    "scrolled": true
   },
   "outputs": [],
   "source": [
    "India"
   ]
  },
  {
   "cell_type": "code",
   "execution_count": null,
   "id": "373d6239",
   "metadata": {},
   "outputs": [],
   "source": [
    "India.index=pd.to_datetime(India.index)# Converting the Index into datetime format\n"
   ]
  },
  {
   "cell_type": "code",
   "execution_count": null,
   "id": "8d86ae52",
   "metadata": {
    "scrolled": true
   },
   "outputs": [],
   "source": [
    "India"
   ]
  },
  {
   "cell_type": "code",
   "execution_count": null,
   "id": "5d938a75",
   "metadata": {},
   "outputs": [],
   "source": [
    "split_point=int(0.8*len(India))#Taking the split point \n",
    "print(split_point)\n",
    "train=India[0:split_point]#Training data\n",
    "test=India[split_point:]#Testing data"
   ]
  },
  {
   "cell_type": "code",
   "execution_count": null,
   "id": "caf831fc",
   "metadata": {},
   "outputs": [],
   "source": [
    "train"
   ]
  },
  {
   "cell_type": "code",
   "execution_count": null,
   "id": "cee838da",
   "metadata": {},
   "outputs": [],
   "source": [
    "test"
   ]
  },
  {
   "cell_type": "code",
   "execution_count": null,
   "id": "5c0c5d95",
   "metadata": {},
   "outputs": [],
   "source": [
    "#Taking the confirmed cases for further processes\n",
    "#Graphical Representation of Confirmed Cases\n",
    "plt.figure(num=None,figsize=(8,6),dpi=80)\n",
    "plt.plot(train.confirmed,label='confirmed Cases Train Data')\n",
    "plt.plot(test.confirmed,label='confirmed Cases Test Data')\n",
    "plt.legend()\n",
    "plt.title(\"Covid-19 confirmed Cases in India\")\n",
    "plt.show()"
   ]
  },
  {
   "cell_type": "code",
   "execution_count": null,
   "id": "2c82682c",
   "metadata": {},
   "outputs": [],
   "source": [
    "# Resampling the data to weekly interval\n",
    "resample=train.resample('7D')\n",
    "weekly=resample.sum()\n",
    "print(weekly)"
   ]
  },
  {
   "cell_type": "code",
   "execution_count": null,
   "id": "95914837",
   "metadata": {},
   "outputs": [],
   "source": [
    "# Resampling the data to monthly interval\n",
    "resample=train.resample('1M')\n",
    "monthly=resample.sum()\n",
    "print(monthly)"
   ]
  },
  {
   "cell_type": "code",
   "execution_count": null,
   "id": "bb8195aa",
   "metadata": {},
   "outputs": [],
   "source": [
    "# Decompose the monthly time-series to its components using statementslibrary.\n",
    "from statsmodels.tsa.seasonal import seasonal_decompose\n",
    "\n",
    "result = seasonal_decompose(monthly.confirmed, period = 1 ,model=\"Multiplicative\")\n",
    "result.plot()\n",
    "plt.show();"
   ]
  },
  {
   "cell_type": "code",
   "execution_count": null,
   "id": "bb182655",
   "metadata": {},
   "outputs": [],
   "source": [
    "#Convert the dataframe columns into int to eliminate any other datatypes\n",
    "train.confirmed=pd.to_numeric(train.confirmed)\n",
    "train.deaths=pd.to_numeric(train.deaths)\n",
    "train.recovered=pd.to_numeric(train.recovered)\n",
    "test.confirmed=pd.to_numeric(test.confirmed)\n",
    "train.deaths=pd.to_numeric(test.deaths)\n",
    "test.recovered=pd.to_numeric(test.recovered)"
   ]
  },
  {
   "cell_type": "markdown",
   "id": "88dcc9eb",
   "metadata": {},
   "source": [
    "## Checking the Stationarity"
   ]
  },
  {
   "cell_type": "code",
   "execution_count": null,
   "id": "783f78b0",
   "metadata": {},
   "outputs": [],
   "source": [
    "plt.figure(figsize=(10,5))\n",
    "sns.lineplot(data=India,x=India.index,y=India.confirmed)"
   ]
  },
  {
   "cell_type": "code",
   "execution_count": null,
   "id": "5775ef8c",
   "metadata": {},
   "outputs": [],
   "source": [
    "India['rollmean']=India.confirmed.rolling(window=12).mean()"
   ]
  },
  {
   "cell_type": "code",
   "execution_count": null,
   "id": "8ee411d7",
   "metadata": {},
   "outputs": [],
   "source": [
    "India['rollStd']=India.confirmed.rolling(window=12).std()"
   ]
  },
  {
   "cell_type": "code",
   "execution_count": null,
   "id": "34f21997",
   "metadata": {},
   "outputs": [],
   "source": [
    "plt.figure(figsize=(10,5))\n",
    "sns.lineplot(data=India,x=India.index,y=India.confirmed,label='Confirmed')\n",
    "sns.lineplot(data=India,x=India.index,y=India.rollmean,label='Rollmean')\n",
    "sns.lineplot(data=India,x=India.index,y=India.rollStd,label='Rollstd')"
   ]
  },
  {
   "cell_type": "code",
   "execution_count": null,
   "id": "7d7b49c2",
   "metadata": {},
   "outputs": [],
   "source": [
    "# it is not constant thus it is not stationary"
   ]
  },
  {
   "cell_type": "markdown",
   "id": "12588704",
   "metadata": {},
   "source": [
    "# ADF TEST"
   ]
  },
  {
   "cell_type": "code",
   "execution_count": null,
   "id": "3b2c1f64",
   "metadata": {},
   "outputs": [],
   "source": [
    "from statsmodels.tsa.stattools import adfuller"
   ]
  },
  {
   "cell_type": "code",
   "execution_count": null,
   "id": "deef3333",
   "metadata": {},
   "outputs": [],
   "source": [
    "adf=adfuller(India['confirmed'],autolag='AIC')"
   ]
  },
  {
   "cell_type": "code",
   "execution_count": null,
   "id": "2f873d4e",
   "metadata": {
    "scrolled": true
   },
   "outputs": [],
   "source": [
    "adf"
   ]
  },
  {
   "cell_type": "code",
   "execution_count": null,
   "id": "fc2ef682",
   "metadata": {},
   "outputs": [],
   "source": [
    "adf[0:4]"
   ]
  },
  {
   "cell_type": "code",
   "execution_count": null,
   "id": "1b6305f8",
   "metadata": {},
   "outputs": [],
   "source": [
    "stats=pd.Series(adf[0:4],index=['Test Statistic','p-value',\"#lags used\",'number of observation used'])\n",
    "stats"
   ]
  },
  {
   "cell_type": "code",
   "execution_count": null,
   "id": "3b879b1e",
   "metadata": {},
   "outputs": [],
   "source": [
    "for key,values in adf[4].items():\n",
    "    print(\"criticality\",key,\":\",values)"
   ]
  },
  {
   "cell_type": "code",
   "execution_count": null,
   "id": "219ca76b",
   "metadata": {},
   "outputs": [],
   "source": [
    "#condition= test statistics< crtitical value\n",
    "# p value<0.05\n",
    "# Here -2.306830 > crtitical value\n",
    "# Which contradicts the assumption\n",
    "# Therfore it is non-stationary"
   ]
  },
  {
   "cell_type": "code",
   "execution_count": null,
   "id": "b0e5a1ae",
   "metadata": {},
   "outputs": [],
   "source": [
    "# To make stationarity-\n",
    "#1.Shift\n",
    "#2.Log\n",
    "#3.square root,cube...\n"
   ]
  },
  {
   "cell_type": "code",
   "execution_count": null,
   "id": "14ad9615",
   "metadata": {},
   "outputs": [],
   "source": [
    "def test_stationarity(dataframe,var):\n",
    "    dataframe['rollmean']=dataframe[var].rolling(window=12).mean()\n",
    "    dataframe['rollStd']=dataframe[var].rolling(window=12).std()\n",
    "    \n",
    "    from statsmodels.tsa.stattools import adfuller\n",
    "    adf=adfuller(dataframe[var],autolag='AIC')\n",
    "    stats=pd.Series(adf[0:4],index=['Test Statistic','p-value',\"#lags used\",'number of observation used'])\n",
    "    print(stats)\n",
    "    \n",
    "    for key,values in adf[4].items():\n",
    "        print(\"criticality\",key,\":\",values)\n",
    "    \n",
    "    \n",
    "    \n",
    "    "
   ]
  },
  {
   "cell_type": "markdown",
   "id": "607ba3a1",
   "metadata": {},
   "source": [
    "\n",
    "## Method 1- Shift Method"
   ]
  },
  {
   "cell_type": "code",
   "execution_count": null,
   "id": "7c321037",
   "metadata": {},
   "outputs": [],
   "source": [
    "dt=India[['confirmed']]\n",
    "dt['shift']=dt.confirmed.shift()\n",
    "dt.head()"
   ]
  },
  {
   "cell_type": "code",
   "execution_count": null,
   "id": "148abd33",
   "metadata": {},
   "outputs": [],
   "source": [
    "dt['shiftdiff']=dt.confirmed-dt['shift']"
   ]
  },
  {
   "cell_type": "code",
   "execution_count": null,
   "id": "eee7bba7",
   "metadata": {},
   "outputs": [],
   "source": [
    "dt\n"
   ]
  },
  {
   "cell_type": "code",
   "execution_count": null,
   "id": "0d8920bc",
   "metadata": {
    "scrolled": false
   },
   "outputs": [],
   "source": [
    "test_stationarity(dt.dropna(),'shiftdiff')"
   ]
  },
  {
   "cell_type": "markdown",
   "id": "a33d8896",
   "metadata": {},
   "source": [
    "#### Here, test statistics< crtitical value satisfys the condition.\n",
    "#### Therefore we can say that the data is staionary."
   ]
  },
  {
   "cell_type": "markdown",
   "id": "8dcdda35",
   "metadata": {},
   "source": [
    "# MODEL CREATION"
   ]
  },
  {
   "cell_type": "markdown",
   "id": "afb983e2",
   "metadata": {},
   "source": [
    "# MODEL 1 :- ARIMA-TESTING\n"
   ]
  },
  {
   "cell_type": "code",
   "execution_count": null,
   "id": "64208613",
   "metadata": {},
   "outputs": [],
   "source": [
    "#Finding the Partial Autocorrelation and Autocorrelation\n",
    "from statsmodels.graphics.tsaplots import plot_acf,plot_pacf"
   ]
  },
  {
   "cell_type": "code",
   "execution_count": null,
   "id": "5f9b45d0",
   "metadata": {},
   "outputs": [],
   "source": [
    "plot_pacf(India['confirmed'],lags=12);#Plotting the PACF\n"
   ]
  },
  {
   "cell_type": "code",
   "execution_count": null,
   "id": "04d17c5b",
   "metadata": {},
   "outputs": [],
   "source": [
    "plot_acf(India['confirmed'],lags=12); #Plotting the ACF"
   ]
  },
  {
   "cell_type": "code",
   "execution_count": null,
   "id": "94b2e75e",
   "metadata": {},
   "outputs": [],
   "source": [
    "#p=1,q=1/2,d=1"
   ]
  },
  {
   "cell_type": "code",
   "execution_count": null,
   "id": "f1ce78ce",
   "metadata": {},
   "outputs": [],
   "source": [
    "from statsmodels.tsa.arima.model import ARIMA\n",
    "\n",
    "# Define and fit the ARIMA model\n",
    "model = ARIMA(train['confirmed'], order=(1, 1, 2))\n",
    "result = model.fit()\n"
   ]
  },
  {
   "cell_type": "code",
   "execution_count": null,
   "id": "ad02c57b",
   "metadata": {},
   "outputs": [],
   "source": [
    "# Generating the predictions using the fitted model\n",
    "predict = result.predict(start=test.index[0], end=test.index[-1], dynamic=False)\n"
   ]
  },
  {
   "cell_type": "code",
   "execution_count": null,
   "id": "3ab75fb3",
   "metadata": {},
   "outputs": [],
   "source": [
    "predict"
   ]
  },
  {
   "cell_type": "code",
   "execution_count": null,
   "id": "8f760ab3",
   "metadata": {},
   "outputs": [],
   "source": [
    "test['arima_pred']=predict"
   ]
  },
  {
   "cell_type": "code",
   "execution_count": null,
   "id": "653dd56f",
   "metadata": {},
   "outputs": [],
   "source": [
    "test"
   ]
  },
  {
   "cell_type": "code",
   "execution_count": null,
   "id": "23e7ec5f",
   "metadata": {
    "scrolled": true
   },
   "outputs": [],
   "source": [
    "sns.lineplot(data=India,x=India.index,y='confirmed',label='Confirmed')\n",
    "sns.lineplot(data=test,x=test.index,y='arima_pred',label='Arima_model')\n",
    "plt.xticks(rotation=45)\n",
    "# Show the plot\n",
    "plt.show()"
   ]
  },
  {
   "cell_type": "markdown",
   "id": "24c28253",
   "metadata": {},
   "source": [
    "# MODEL EVALUATION"
   ]
  },
  {
   "cell_type": "code",
   "execution_count": null,
   "id": "28bbd49a",
   "metadata": {},
   "outputs": [],
   "source": [
    "from sklearn.metrics import mean_squared_error\n"
   ]
  },
  {
   "cell_type": "code",
   "execution_count": null,
   "id": "efc2426b",
   "metadata": {
    "scrolled": false
   },
   "outputs": [],
   "source": [
    "m=np.sqrt(mean_squared_error(test['confirmed'],predict))\n",
    "print(\"Mean Squared Error:\", m)"
   ]
  },
  {
   "cell_type": "markdown",
   "id": "6c0775a9",
   "metadata": {},
   "source": [
    "###  The mean Squared error for Arima Model is  538135.4134552339."
   ]
  },
  {
   "cell_type": "markdown",
   "id": "15a3ac7e",
   "metadata": {},
   "source": [
    "# MODEL 2 :- SARIMAX"
   ]
  },
  {
   "cell_type": "code",
   "execution_count": null,
   "id": "466b9724",
   "metadata": {},
   "outputs": [],
   "source": [
    "from statsmodels.tsa.statespace.sarimax import SARIMAX"
   ]
  },
  {
   "cell_type": "code",
   "execution_count": null,
   "id": "f984dae1",
   "metadata": {},
   "outputs": [],
   "source": [
    "India"
   ]
  },
  {
   "cell_type": "code",
   "execution_count": null,
   "id": "b4ef76b4",
   "metadata": {},
   "outputs": [],
   "source": [
    "from statsmodels.tsa.statespace.sarimax import SARIMAX\n",
    "import numpy as np\n",
    "\n",
    "\n",
    "#Model parameters\n",
    "order = (1, 1, 1)\n",
    "seasonal_order = (1, 1, 1, 12)\n",
    "\n",
    "try:\n",
    "    # Define and fit the SARIMAX model\n",
    "    model = SARIMAX(train['confirmed'], order=order, seasonal_order=seasonal_order)\n",
    "    result = model.fit()\n",
    "    prediction = result.predict(start=test.index[0], end=test.index[-1])\n",
    "\n",
    "except np.linalg.LinAlgError:\n",
    "    print(\"Singular matrix encountered. Adjusting model parameters or data preprocessing may help.\")\n"
   ]
  },
  {
   "cell_type": "code",
   "execution_count": null,
   "id": "6ee2921b",
   "metadata": {},
   "outputs": [],
   "source": [
    "prediction"
   ]
  },
  {
   "cell_type": "code",
   "execution_count": null,
   "id": "2b34564d",
   "metadata": {},
   "outputs": [],
   "source": [
    "test['sarima_pred']=prediction"
   ]
  },
  {
   "cell_type": "code",
   "execution_count": null,
   "id": "a94cf7e3",
   "metadata": {
    "scrolled": true
   },
   "outputs": [],
   "source": [
    "sns.lineplot(data=India,x=India.index,y='confirmed',label='Confirmed')\n",
    "sns.lineplot(data=test,x=test.index,y='sarima_pred',label='Sarimax_pred')\n",
    "plt.xticks(rotation=45)\n",
    "\n",
    "# Show the plot\n",
    "plt.show()"
   ]
  },
  {
   "cell_type": "markdown",
   "id": "10d8a164",
   "metadata": {},
   "source": [
    "# MODEL EVALUATION"
   ]
  },
  {
   "cell_type": "code",
   "execution_count": null,
   "id": "cffaa30d",
   "metadata": {},
   "outputs": [],
   "source": [
    "np.sqrt(mean_squared_error(test['confirmed'],prediction))"
   ]
  },
  {
   "cell_type": "markdown",
   "id": "82dfefdd",
   "metadata": {},
   "source": [
    "### The mean squared error for SARIMAX Model is 112996.42785296212\n"
   ]
  },
  {
   "cell_type": "markdown",
   "id": "0f13fcaa",
   "metadata": {},
   "source": [
    "# MODEL 3 :- HOLT-WINTER"
   ]
  },
  {
   "cell_type": "code",
   "execution_count": null,
   "id": "993c9b0b",
   "metadata": {},
   "outputs": [],
   "source": [
    "constant=1\n",
    "train['Conf_']=train['confirmed']+constant\n",
    "\n"
   ]
  },
  {
   "cell_type": "code",
   "execution_count": null,
   "id": "ad85212c",
   "metadata": {},
   "outputs": [],
   "source": [
    "train"
   ]
  },
  {
   "cell_type": "code",
   "execution_count": null,
   "id": "a4527f5c",
   "metadata": {
    "scrolled": true
   },
   "outputs": [],
   "source": [
    "from statsmodels.tsa.holtwinters import ExponentialSmoothing\n",
    "hwmodel=ExponentialSmoothing(train.Conf_,trend=\"mul\",seasonal=\"mul\",seasonal_periods=30,damped=True).fit()"
   ]
  },
  {
   "cell_type": "code",
   "execution_count": null,
   "id": "9d03421c",
   "metadata": {},
   "outputs": [],
   "source": [
    "test_pred=hwmodel.forecast(49)"
   ]
  },
  {
   "cell_type": "code",
   "execution_count": null,
   "id": "142c074c",
   "metadata": {
    "scrolled": true
   },
   "outputs": [],
   "source": [
    "test_pred"
   ]
  },
  {
   "cell_type": "code",
   "execution_count": null,
   "id": "d2b10e80",
   "metadata": {},
   "outputs": [],
   "source": [
    "test['test_pred']=test_pred"
   ]
  },
  {
   "cell_type": "code",
   "execution_count": null,
   "id": "eec35d9e",
   "metadata": {
    "scrolled": false
   },
   "outputs": [],
   "source": [
    "train['Conf_'].plot(legend=True,label='Train',figsize=(10,6))\n",
    "test['confirmed'].plot(legend=True,label='Test')\n",
    "test_pred.plot(legend=True,label='ExponentialSmoothing_pred')"
   ]
  },
  {
   "cell_type": "markdown",
   "id": "31b9921f",
   "metadata": {},
   "source": [
    "# MODEL EVALUATION"
   ]
  },
  {
   "cell_type": "code",
   "execution_count": null,
   "id": "79f47d21",
   "metadata": {},
   "outputs": [],
   "source": [
    "np.sqrt(mean_squared_error(test['confirmed'],test_pred))#evaluation"
   ]
  },
  {
   "cell_type": "markdown",
   "id": "c39ade32",
   "metadata": {},
   "source": [
    "### The mean squared error for Exponential Smoothing Model is 187485.6519744362."
   ]
  },
  {
   "cell_type": "markdown",
   "id": "cbc66ced",
   "metadata": {},
   "source": [
    "## While considering the 3 model, it is seen that Sarimax is showing much more better performance than other models.So we are taking Sarimax for future prediction."
   ]
  },
  {
   "cell_type": "markdown",
   "id": "cb59b48d",
   "metadata": {},
   "source": [
    "# FUTURE PREDICTION"
   ]
  },
  {
   "cell_type": "code",
   "execution_count": null,
   "id": "094139a6",
   "metadata": {},
   "outputs": [],
   "source": [
    "import pandas as pd\n",
    "\n",
    "# Generate a DataFrame with dates as index\n",
    "f = pd.DataFrame(index=pd.date_range(start=\"2020-09-21\", end=\"2020-12-21\"))\n",
    "\n",
    "# Check the first few rows of the DataFrame\n",
    "print(f.head())\n"
   ]
  },
  {
   "cell_type": "code",
   "execution_count": null,
   "id": "5901603f",
   "metadata": {},
   "outputs": [],
   "source": [
    "f#Creating a new dataframe for future prediction"
   ]
  },
  {
   "cell_type": "code",
   "execution_count": null,
   "id": "6c2a384e",
   "metadata": {},
   "outputs": [],
   "source": [
    "result.predict(start=f.index[0],end=f.index[-1])#Predicting the values for the new dataframe"
   ]
  },
  {
   "cell_type": "code",
   "execution_count": null,
   "id": "5ebd7dee",
   "metadata": {},
   "outputs": [],
   "source": [
    "result.predict(start=f.index[0],end=f.index[-1]).plot()#Plotting the value"
   ]
  },
  {
   "cell_type": "code",
   "execution_count": null,
   "id": "4c5299a8",
   "metadata": {},
   "outputs": [],
   "source": [
    "sns.lineplot(data=India,x=India.index,y='confirmed',label='Confirmed')\n",
    "sns.lineplot(data=test,x=test.index,y='sarima_pred',label='Sarima_model')\n",
    "a=result.predict(start=f.index[0],end=f.index[-1])\n",
    "a.plot(label=\"Future_values\")\n",
    "plt.legend()"
   ]
  },
  {
   "cell_type": "markdown",
   "id": "003de4a2",
   "metadata": {},
   "source": [
    "# CONCLUSION\n",
    "- The JohnsHopkinsCovid19 project consist of 3 different dataset.They are 'time_series_covid19_confirmed_global','time_series_covid19_deaths_global','time_series_covid19_recovered_global'.\n",
    "- Since the 3 datasets have 248 columns in which first 4 columns are Province/State,Country/Region,Lat,Long and rest are the dates so we converted the wide dataset into long by using the melt function.\n",
    "- After melting 3 datasets then we merged those datasets into one single dataset.\n",
    "- While doing the EDA it is seen that US,Brazil and India are those countries mostly affected by the Covid19 virus.\n",
    "- We had tried 3 models for forcasting -ARIMA,SARIMAX,Exponential Smoothing.\n",
    "- After evaluating multiple time series models, it was determined that the   SARIMAX model demonstrated the best performance based on Mean Squared Error (MSE).Thus we selected SARIMAX model for predicting confirm cases for the period of time \"2020-09-21\" to \"2020-12-21\".\n"
   ]
  },
  {
   "cell_type": "markdown",
   "id": "9c63ca76",
   "metadata": {},
   "source": [
    "# SUGGESTION\n",
    "#### Based on our analysis on India these are our suggestions,\n",
    "- Improve testing capabilities:-Make testing more accessible and capable in order to quickly detect and isolate affected people.\n",
    "- Improve Healthcare System :-Boost the healthcare system by making sure there are enough hospital beds, medical supplies, and equipment to handle any spikes in COVID-19 cases.\n",
    "- Affordable medical support :- As most of these medical facilities are expensive most of the people stay back from these which can be threaten for their life.\n",
    "- Proper Awareness programs on Rural Areas:- As the population in Rural areas are comparitively more proper awareness programs are necessary."
   ]
  },
  {
   "cell_type": "markdown",
   "id": "778868f9",
   "metadata": {},
   "source": [
    "# RISKS\n",
    "- Since there was 3 dataset it was difficult to merge them.\n",
    "- Finding the best time series model was also a challenging one.\n"
   ]
  },
  {
   "cell_type": "code",
   "execution_count": null,
   "id": "baba5cc4",
   "metadata": {},
   "outputs": [],
   "source": []
  }
 ],
 "metadata": {
  "kernelspec": {
   "display_name": "Python 3 (ipykernel)",
   "language": "python",
   "name": "python3"
  },
  "language_info": {
   "codemirror_mode": {
    "name": "ipython",
    "version": 3
   },
   "file_extension": ".py",
   "mimetype": "text/x-python",
   "name": "python",
   "nbconvert_exporter": "python",
   "pygments_lexer": "ipython3",
   "version": "3.11.4"
  }
 },
 "nbformat": 4,
 "nbformat_minor": 5
}
